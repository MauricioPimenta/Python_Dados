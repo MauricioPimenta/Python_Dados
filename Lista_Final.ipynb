{
 "cells": [
  {
   "cell_type": "code",
   "execution_count": 44,
   "metadata": {},
   "outputs": [
    {
     "name": "stdout",
     "output_type": "stream",
     "text": [
      "      Series_reference   Period  Data_value Suppressed STATUS   UNITS  Magnitude                         Subject                                         Group                          Series_title_1                      Series_title_2 Series_title_3  Series_title_4  Series_title_5\n",
      "0          BDCQ.SEA1AA  2011.06     80078.0        NaN      F  Number          0  Business Data Collection - BDC               Industry by employment variable                             Filled jobs   Agriculture, Forestry and Fishing         Actual             NaN             NaN\n",
      "1          BDCQ.SEA1AA  2011.09     78324.0        NaN      F  Number          0  Business Data Collection - BDC               Industry by employment variable                             Filled jobs   Agriculture, Forestry and Fishing         Actual             NaN             NaN\n",
      "2          BDCQ.SEA1AA  2011.12     85850.0        NaN      F  Number          0  Business Data Collection - BDC               Industry by employment variable                             Filled jobs   Agriculture, Forestry and Fishing         Actual             NaN             NaN\n",
      "3          BDCQ.SEA1AA  2012.03     90743.0        NaN      F  Number          0  Business Data Collection - BDC               Industry by employment variable                             Filled jobs   Agriculture, Forestry and Fishing         Actual             NaN             NaN\n",
      "4          BDCQ.SEA1AA  2012.06     81780.0        NaN      F  Number          0  Business Data Collection - BDC               Industry by employment variable                             Filled jobs   Agriculture, Forestry and Fishing         Actual             NaN             NaN\n",
      "...                ...      ...         ...        ...    ...     ...        ...                             ...                                           ...                                     ...                                 ...            ...             ...             ...\n",
      "20636    BDCQ.SEE3999A  2017.06         NaN          Y      C  Number          0  Business Data Collection - BDC  Territorial authority by employment variable  Filled jobs (workplace location based)  Area Outside Territorial Authority         Actual             NaN             NaN\n",
      "20637    BDCQ.SEE3999A  2017.09         NaN          Y      C  Number          0  Business Data Collection - BDC  Territorial authority by employment variable  Filled jobs (workplace location based)  Area Outside Territorial Authority         Actual             NaN             NaN\n",
      "20638    BDCQ.SEE3999A  2017.12         NaN          Y      C  Number          0  Business Data Collection - BDC  Territorial authority by employment variable  Filled jobs (workplace location based)  Area Outside Territorial Authority         Actual             NaN             NaN\n",
      "20639    BDCQ.SEE3999A  2018.03         NaN          Y      C  Number          0  Business Data Collection - BDC  Territorial authority by employment variable  Filled jobs (workplace location based)  Area Outside Territorial Authority         Actual             NaN             NaN\n",
      "20640    BDCQ.SEE3999A  2018.06         NaN          Y      C  Number          0  Business Data Collection - BDC  Territorial authority by employment variable  Filled jobs (workplace location based)  Area Outside Territorial Authority         Actual             NaN             NaN\n",
      "\n",
      "[20641 rows x 14 columns]\n"
     ]
    }
   ],
   "source": [
    "import io, requests\n",
    "import pandas as pd, matplotlib.pyplot as plt\n",
    "from bs4 import BeautifulSoup\n",
    "\n",
    "\n",
    "with io.StringIO() as csv:\n",
    "  data_url \\\n",
    "    = \"https://docs.google.com/uc?export=download&id=1GLngCo_qP1H_SfOjrGk6eaABciTLOSBU\"\n",
    "  data = requests.get(data_url).text\n",
    "  csv.write(data)\n",
    "  csv.seek(0)\n",
    "  dataframe = pd.read_csv(csv)\n",
    "\n",
    "\n",
    "pd.set_option('display.expand_frame_repr', False)\n",
    "\n",
    "print(dataframe)\n"
   ]
  },
  {
   "cell_type": "code",
   "execution_count": 45,
   "metadata": {},
   "outputs": [
    {
     "name": "stdout",
     "output_type": "stream",
     "text": [
      "        Period  Data_value Suppressed STATUS   UNITS  Magnitude                         Subject                                         Group                          Series_title_1                      Series_title_2 Series_title_3  Series_title_4  Series_title_5\n",
      "0      2011.06     80078.0        NaN      F  Number          0  Business Data Collection - BDC               Industry by employment variable                             Filled jobs   Agriculture, Forestry and Fishing         Actual             NaN             NaN\n",
      "1      2011.09     78324.0        NaN      F  Number          0  Business Data Collection - BDC               Industry by employment variable                             Filled jobs   Agriculture, Forestry and Fishing         Actual             NaN             NaN\n",
      "2      2011.12     85850.0        NaN      F  Number          0  Business Data Collection - BDC               Industry by employment variable                             Filled jobs   Agriculture, Forestry and Fishing         Actual             NaN             NaN\n",
      "3      2012.03     90743.0        NaN      F  Number          0  Business Data Collection - BDC               Industry by employment variable                             Filled jobs   Agriculture, Forestry and Fishing         Actual             NaN             NaN\n",
      "4      2012.06     81780.0        NaN      F  Number          0  Business Data Collection - BDC               Industry by employment variable                             Filled jobs   Agriculture, Forestry and Fishing         Actual             NaN             NaN\n",
      "...        ...         ...        ...    ...     ...        ...                             ...                                           ...                                     ...                                 ...            ...             ...             ...\n",
      "20636  2017.06         NaN          Y      C  Number          0  Business Data Collection - BDC  Territorial authority by employment variable  Filled jobs (workplace location based)  Area Outside Territorial Authority         Actual             NaN             NaN\n",
      "20637  2017.09         NaN          Y      C  Number          0  Business Data Collection - BDC  Territorial authority by employment variable  Filled jobs (workplace location based)  Area Outside Territorial Authority         Actual             NaN             NaN\n",
      "20638  2017.12         NaN          Y      C  Number          0  Business Data Collection - BDC  Territorial authority by employment variable  Filled jobs (workplace location based)  Area Outside Territorial Authority         Actual             NaN             NaN\n",
      "20639  2018.03         NaN          Y      C  Number          0  Business Data Collection - BDC  Territorial authority by employment variable  Filled jobs (workplace location based)  Area Outside Territorial Authority         Actual             NaN             NaN\n",
      "20640  2018.06         NaN          Y      C  Number          0  Business Data Collection - BDC  Territorial authority by employment variable  Filled jobs (workplace location based)  Area Outside Territorial Authority         Actual             NaN             NaN\n",
      "\n",
      "[20641 rows x 13 columns]\n",
      "Period            float64\n",
      "Data_value        float64\n",
      "Suppressed         object\n",
      "STATUS             object\n",
      "UNITS              object\n",
      "Magnitude           int64\n",
      "Subject            object\n",
      "Group              object\n",
      "Series_title_1     object\n",
      "Series_title_2     object\n",
      "Series_title_3     object\n",
      "Series_title_4    float64\n",
      "Series_title_5    float64\n",
      "dtype: object\n"
     ]
    }
   ],
   "source": [
    "dataframe.pop(item=\"Series_reference\")\n",
    "\n",
    "print(dataframe)\n",
    "print(dataframe.dtypes)"
   ]
  },
  {
   "cell_type": "code",
   "execution_count": 47,
   "metadata": {},
   "outputs": [
    {
     "data": {
      "text/plain": [
       "268333"
      ]
     },
     "execution_count": 47,
     "metadata": {},
     "output_type": "execute_result"
    }
   ],
   "source": [
    "dataframe.size"
   ]
  },
  {
   "cell_type": "code",
   "execution_count": null,
   "metadata": {},
   "outputs": [],
   "source": [
    "dataframe."
   ]
  }
 ],
 "metadata": {
  "kernelspec": {
   "display_name": "Python 3",
   "language": "python",
   "name": "python3"
  },
  "language_info": {
   "codemirror_mode": {
    "name": "ipython",
    "version": 3
   },
   "file_extension": ".py",
   "mimetype": "text/x-python",
   "name": "python",
   "nbconvert_exporter": "python",
   "pygments_lexer": "ipython3",
   "version": "3.8.10"
  },
  "orig_nbformat": 4
 },
 "nbformat": 4,
 "nbformat_minor": 2
}
